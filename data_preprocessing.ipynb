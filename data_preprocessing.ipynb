{
 "cells": [
  {
   "cell_type": "code",
   "execution_count": 1,
   "metadata": {},
   "outputs": [],
   "source": [
    "import pandas as pd"
   ]
  },
  {
   "cell_type": "code",
   "execution_count": 2,
   "metadata": {},
   "outputs": [],
   "source": [
    "raw_input = pd.read_excel('Travel_denormalise.xlsx')"
   ]
  },
  {
   "cell_type": "code",
   "execution_count": 3,
   "metadata": {},
   "outputs": [
    {
     "data": {
      "text/html": [
       "<div>\n",
       "<style scoped>\n",
       "    .dataframe tbody tr th:only-of-type {\n",
       "        vertical-align: middle;\n",
       "    }\n",
       "\n",
       "    .dataframe tbody tr th {\n",
       "        vertical-align: top;\n",
       "    }\n",
       "\n",
       "    .dataframe thead th {\n",
       "        text-align: right;\n",
       "    }\n",
       "</style>\n",
       "<table border=\"1\" class=\"dataframe\">\n",
       "  <thead>\n",
       "    <tr style=\"text-align: right;\">\n",
       "      <th></th>\n",
       "      <th>id</th>\n",
       "      <th>Issue_date</th>\n",
       "      <th>Travel_type</th>\n",
       "      <th>Traveler_name</th>\n",
       "      <th>nom</th>\n",
       "      <th>prenom</th>\n",
       "      <th>Supplier_name</th>\n",
       "      <th>OBT_action_code</th>\n",
       "      <th>Tickets_used</th>\n",
       "      <th>Ticket_departure_date</th>\n",
       "      <th>Rang</th>\n",
       "      <th>airport_code</th>\n",
       "      <th>city_name</th>\n",
       "      <th>country</th>\n",
       "      <th>Latitue</th>\n",
       "      <th>Longitude</th>\n",
       "    </tr>\n",
       "  </thead>\n",
       "  <tbody>\n",
       "    <tr>\n",
       "      <th>0</th>\n",
       "      <td>1</td>\n",
       "      <td>2016-01-02</td>\n",
       "      <td>Rail</td>\n",
       "      <td>Bobby Mccoy</td>\n",
       "      <td>Bobby</td>\n",
       "      <td>Mccoy</td>\n",
       "      <td>SNCF</td>\n",
       "      <td>EB</td>\n",
       "      <td>1</td>\n",
       "      <td>2016-01-04</td>\n",
       "      <td>Origine</td>\n",
       "      <td>NaN</td>\n",
       "      <td>TROYES</td>\n",
       "      <td>FRANCE</td>\n",
       "      <td>48.2989</td>\n",
       "      <td>4.0781</td>\n",
       "    </tr>\n",
       "    <tr>\n",
       "      <th>1</th>\n",
       "      <td>1</td>\n",
       "      <td>2016-01-02</td>\n",
       "      <td>Rail</td>\n",
       "      <td>Bobby Mccoy</td>\n",
       "      <td>Bobby</td>\n",
       "      <td>Mccoy</td>\n",
       "      <td>SNCF</td>\n",
       "      <td>EB</td>\n",
       "      <td>1</td>\n",
       "      <td>2016-01-04</td>\n",
       "      <td>Destination</td>\n",
       "      <td>NaN</td>\n",
       "      <td>PARIS</td>\n",
       "      <td>FRANCE</td>\n",
       "      <td>48.8566</td>\n",
       "      <td>2.3518</td>\n",
       "    </tr>\n",
       "    <tr>\n",
       "      <th>2</th>\n",
       "      <td>2</td>\n",
       "      <td>2016-01-02</td>\n",
       "      <td>Rail</td>\n",
       "      <td>Bobby Mccoy</td>\n",
       "      <td>Bobby</td>\n",
       "      <td>Mccoy</td>\n",
       "      <td>SNCF</td>\n",
       "      <td>EB</td>\n",
       "      <td>1</td>\n",
       "      <td>2016-01-04</td>\n",
       "      <td>Origine</td>\n",
       "      <td>NaN</td>\n",
       "      <td>PARIS</td>\n",
       "      <td>FRANCE</td>\n",
       "      <td>48.8566</td>\n",
       "      <td>2.3518</td>\n",
       "    </tr>\n",
       "    <tr>\n",
       "      <th>3</th>\n",
       "      <td>2</td>\n",
       "      <td>2016-01-02</td>\n",
       "      <td>Rail</td>\n",
       "      <td>Bobby Mccoy</td>\n",
       "      <td>Bobby</td>\n",
       "      <td>Mccoy</td>\n",
       "      <td>SNCF</td>\n",
       "      <td>EB</td>\n",
       "      <td>1</td>\n",
       "      <td>2016-01-04</td>\n",
       "      <td>Destination</td>\n",
       "      <td>NaN</td>\n",
       "      <td>TROYES</td>\n",
       "      <td>FRANCE</td>\n",
       "      <td>48.2989</td>\n",
       "      <td>4.0781</td>\n",
       "    </tr>\n",
       "    <tr>\n",
       "      <th>4</th>\n",
       "      <td>3</td>\n",
       "      <td>2016-01-02</td>\n",
       "      <td>Rail</td>\n",
       "      <td>Steve Torres</td>\n",
       "      <td>Steve</td>\n",
       "      <td>Torres</td>\n",
       "      <td>SNCF</td>\n",
       "      <td>EB</td>\n",
       "      <td>1</td>\n",
       "      <td>2016-01-15</td>\n",
       "      <td>Origine</td>\n",
       "      <td>NaN</td>\n",
       "      <td>TROYES</td>\n",
       "      <td>FRANCE</td>\n",
       "      <td>48.2989</td>\n",
       "      <td>4.0781</td>\n",
       "    </tr>\n",
       "  </tbody>\n",
       "</table>\n",
       "</div>"
      ],
      "text/plain": [
       "   id Issue_date Travel_type Traveler_name    nom  prenom Supplier_name  \\\n",
       "0   1 2016-01-02        Rail   Bobby Mccoy  Bobby   Mccoy          SNCF   \n",
       "1   1 2016-01-02        Rail   Bobby Mccoy  Bobby   Mccoy          SNCF   \n",
       "2   2 2016-01-02        Rail   Bobby Mccoy  Bobby   Mccoy          SNCF   \n",
       "3   2 2016-01-02        Rail   Bobby Mccoy  Bobby   Mccoy          SNCF   \n",
       "4   3 2016-01-02        Rail  Steve Torres  Steve  Torres          SNCF   \n",
       "\n",
       "  OBT_action_code  Tickets_used Ticket_departure_date         Rang  \\\n",
       "0              EB             1            2016-01-04      Origine   \n",
       "1              EB             1            2016-01-04  Destination   \n",
       "2              EB             1            2016-01-04      Origine   \n",
       "3              EB             1            2016-01-04  Destination   \n",
       "4              EB             1            2016-01-15      Origine   \n",
       "\n",
       "   airport_code city_name country  Latitue  Longitude  \n",
       "0           NaN    TROYES  FRANCE  48.2989     4.0781  \n",
       "1           NaN     PARIS  FRANCE  48.8566     2.3518  \n",
       "2           NaN     PARIS  FRANCE  48.8566     2.3518  \n",
       "3           NaN    TROYES  FRANCE  48.2989     4.0781  \n",
       "4           NaN    TROYES  FRANCE  48.2989     4.0781  "
      ]
     },
     "execution_count": 3,
     "metadata": {},
     "output_type": "execute_result"
    }
   ],
   "source": [
    "raw_input.head()"
   ]
  },
  {
   "cell_type": "code",
   "execution_count": 10,
   "metadata": {},
   "outputs": [],
   "source": [
    "test_df = raw_input[['id', 'city_name', 'Rang', 'Latitue', 'Longitude']]"
   ]
  },
  {
   "cell_type": "code",
   "execution_count": 20,
   "metadata": {},
   "outputs": [],
   "source": [
    "test2_df = test_df.set_index(['id', 'Rang']).unstack('Rang')"
   ]
  },
  {
   "cell_type": "code",
   "execution_count": 26,
   "metadata": {},
   "outputs": [],
   "source": [
    "test2_df.columns = [' '.join(col).strip() for col in test2_df.columns.values]"
   ]
  },
  {
   "cell_type": "code",
   "execution_count": 28,
   "metadata": {},
   "outputs": [],
   "source": [
    "df = raw_input.set_index([column for column in raw_input.columns if column not in ['city_name', 'country', 'Latitue', 'Longitude']]).unstack('Rang')"
   ]
  },
  {
   "cell_type": "code",
   "execution_count": 30,
   "metadata": {},
   "outputs": [],
   "source": [
    "df.columns = [' '.join(col).strip() for col in df.columns.values]"
   ]
  },
  {
   "cell_type": "code",
   "execution_count": 34,
   "metadata": {},
   "outputs": [],
   "source": [
    "df.to_excel('input.xlsx')"
   ]
  }
 ],
 "metadata": {
  "kernelspec": {
   "display_name": "Python 3",
   "language": "python",
   "name": "python3"
  },
  "language_info": {
   "codemirror_mode": {
    "name": "ipython",
    "version": 3
   },
   "file_extension": ".py",
   "mimetype": "text/x-python",
   "name": "python",
   "nbconvert_exporter": "python",
   "pygments_lexer": "ipython3",
   "version": "3.8.5"
  }
 },
 "nbformat": 4,
 "nbformat_minor": 4
}
